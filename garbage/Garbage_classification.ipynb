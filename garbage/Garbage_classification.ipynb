{
 "cells": [
  {
   "cell_type": "code",
   "execution_count": 2,
   "metadata": {
    "executionInfo": {
     "elapsed": 13125,
     "status": "ok",
     "timestamp": 1731189505719,
     "user": {
      "displayName": "Abdurrizqo Arrahman",
      "userId": "05926603518497905885"
     },
     "user_tz": -480
    },
    "id": "bz1PsJ7SxT4B"
   },
   "outputs": [
    {
     "name": "stderr",
     "output_type": "stream",
     "text": [
      "2024-11-11 19:19:17.525990: I tensorflow/core/util/port.cc:153] oneDNN custom operations are on. You may see slightly different numerical results due to floating-point round-off errors from different computation orders. To turn them off, set the environment variable `TF_ENABLE_ONEDNN_OPTS=0`.\n",
      "2024-11-11 19:19:17.600546: E external/local_xla/xla/stream_executor/cuda/cuda_fft.cc:477] Unable to register cuFFT factory: Attempting to register factory for plugin cuFFT when one has already been registered\n",
      "WARNING: All log messages before absl::InitializeLog() is called are written to STDERR\n",
      "E0000 00:00:1731323957.640905    1388 cuda_dnn.cc:8310] Unable to register cuDNN factory: Attempting to register factory for plugin cuDNN when one has already been registered\n",
      "E0000 00:00:1731323957.652131    1388 cuda_blas.cc:1418] Unable to register cuBLAS factory: Attempting to register factory for plugin cuBLAS when one has already been registered\n",
      "2024-11-11 19:19:17.724924: I tensorflow/core/platform/cpu_feature_guard.cc:210] This TensorFlow binary is optimized to use available CPU instructions in performance-critical operations.\n",
      "To enable the following instructions: AVX2 AVX512F AVX512_VNNI FMA, in other operations, rebuild TensorFlow with the appropriate compiler flags.\n"
     ]
    }
   ],
   "source": [
    "import tensorflow as tf\n",
    "from tensorflow.keras.preprocessing.image import ImageDataGenerator"
   ]
  },
  {
   "cell_type": "code",
   "execution_count": 3,
   "metadata": {
    "executionInfo": {
     "elapsed": 7,
     "status": "ok",
     "timestamp": 1731189505720,
     "user": {
      "displayName": "Abdurrizqo Arrahman",
      "userId": "05926603518497905885"
     },
     "user_tz": -480
    },
    "id": "k3Gadh0jxjua"
   },
   "outputs": [],
   "source": [
    "train_datagen = ImageDataGenerator(\n",
    "    rescale=1.0/255,\n",
    "    rotation_range=20,\n",
    "    width_shift_range=0.1,\n",
    "    height_shift_range=0.1,\n",
    "    shear_range=0.2,\n",
    "    zoom_range=0.2,\n",
    "    horizontal_flip=True,\n",
    "    fill_mode='nearest'\n",
    ")"
   ]
  },
  {
   "cell_type": "code",
   "execution_count": 4,
   "metadata": {
    "colab": {
     "base_uri": "https://localhost:8080/"
    },
    "executionInfo": {
     "elapsed": 12105,
     "status": "ok",
     "timestamp": 1731189517819,
     "user": {
      "displayName": "Abdurrizqo Arrahman",
      "userId": "05926603518497905885"
     },
     "user_tz": -480
    },
    "id": "9D3obwYexleY",
    "outputId": "f70260fb-08f2-4f11-eaa6-30824b5ed9c0"
   },
   "outputs": [
    {
     "name": "stdout",
     "output_type": "stream",
     "text": [
      "Found 10869 images belonging to 12 classes.\n"
     ]
    }
   ],
   "source": [
    "train_data = train_datagen.flow_from_directory(\n",
    "    'split_dataset/train',\n",
    "    target_size=(224, 224),\n",
    "    batch_size=32,\n",
    "    class_mode='categorical'\n",
    ")"
   ]
  },
  {
   "cell_type": "code",
   "execution_count": 5,
   "metadata": {
    "colab": {
     "base_uri": "https://localhost:8080/"
    },
    "executionInfo": {
     "elapsed": 2414,
     "status": "ok",
     "timestamp": 1731189520229,
     "user": {
      "displayName": "Abdurrizqo Arrahman",
      "userId": "05926603518497905885"
     },
     "user_tz": -480
    },
    "id": "JhgQyHXTx4k2",
    "outputId": "36c899f6-aa67-4274-baf0-b858c9ca5c14"
   },
   "outputs": [
    {
     "name": "stdout",
     "output_type": "stream",
     "text": [
      "Found 2331 images belonging to 12 classes.\n"
     ]
    }
   ],
   "source": [
    "val_data = train_datagen.flow_from_directory(\n",
    "    'split_dataset/val',\n",
    "    target_size=(224, 224),\n",
    "    batch_size=32,\n",
    "    class_mode='categorical'\n",
    ")"
   ]
  },
  {
   "cell_type": "code",
   "execution_count": 6,
   "metadata": {
    "colab": {
     "base_uri": "https://localhost:8080/"
    },
    "executionInfo": {
     "elapsed": 2289,
     "status": "ok",
     "timestamp": 1731189522513,
     "user": {
      "displayName": "Abdurrizqo Arrahman",
      "userId": "05926603518497905885"
     },
     "user_tz": -480
    },
    "id": "NN4iLkxZb7ZB",
    "outputId": "ff0b7165-7c5a-4e49-d41a-c1a055a272c5"
   },
   "outputs": [
    {
     "name": "stdout",
     "output_type": "stream",
     "text": [
      "Found 2337 images belonging to 12 classes.\n"
     ]
    }
   ],
   "source": [
    "val_test_datagen = ImageDataGenerator(rescale=1.0/255)\n",
    "test_data = val_test_datagen.flow_from_directory(\n",
    "    'split_dataset/test',\n",
    "    target_size=(224, 224),\n",
    "    batch_size=32,\n",
    "    class_mode='categorical',\n",
    "    shuffle=False\n",
    ")"
   ]
  },
  {
   "cell_type": "code",
   "execution_count": 7,
   "metadata": {
    "executionInfo": {
     "elapsed": 4,
     "status": "ok",
     "timestamp": 1731189522513,
     "user": {
      "displayName": "Abdurrizqo Arrahman",
      "userId": "05926603518497905885"
     },
     "user_tz": -480
    },
    "id": "KW-zPSb1x9vO"
   },
   "outputs": [],
   "source": [
    "from tensorflow.keras.applications import MobileNet\n",
    "from tensorflow.keras.models import Model\n",
    "from tensorflow.keras.layers import Dense, GlobalAveragePooling2D, Dropout"
   ]
  },
  {
   "cell_type": "code",
   "execution_count": 8,
   "metadata": {
    "colab": {
     "base_uri": "https://localhost:8080/"
    },
    "executionInfo": {
     "elapsed": 1253,
     "status": "ok",
     "timestamp": 1731189523763,
     "user": {
      "displayName": "Abdurrizqo Arrahman",
      "userId": "05926603518497905885"
     },
     "user_tz": -480
    },
    "id": "VGDdf4xyyA68",
    "outputId": "5acf2133-e8bb-41b7-9a48-26aca28a41eb"
   },
   "outputs": [
    {
     "name": "stderr",
     "output_type": "stream",
     "text": [
      "I0000 00:00:1731323960.994482    1388 gpu_device.cc:2022] Created device /job:localhost/replica:0/task:0/device:GPU:0 with 2246 MB memory:  -> device: 0, name: NVIDIA GeForce GTX 1650, pci bus id: 0000:01:00.0, compute capability: 7.5\n"
     ]
    }
   ],
   "source": [
    "base_model = MobileNet(weights='imagenet', include_top=False, input_shape=(224, 224, 3))\n",
    "base_model.trainable = False"
   ]
  },
  {
   "cell_type": "code",
   "execution_count": 9,
   "metadata": {
    "executionInfo": {
     "elapsed": 8,
     "status": "ok",
     "timestamp": 1731189523763,
     "user": {
      "displayName": "Abdurrizqo Arrahman",
      "userId": "05926603518497905885"
     },
     "user_tz": -480
    },
    "id": "dgT7o0uByEiU"
   },
   "outputs": [],
   "source": [
    "x = base_model.output\n",
    "x = GlobalAveragePooling2D()(x)\n",
    "x = Dense(128, activation='relu')(x)\n",
    "x = Dropout(0.4)(x)\n",
    "predictions = Dense(train_data.num_classes, activation='softmax')(x)\n",
    "\n",
    "model = Model(inputs=base_model.input, outputs=predictions)"
   ]
  },
  {
   "cell_type": "code",
   "execution_count": 10,
   "metadata": {
    "executionInfo": {
     "elapsed": 8,
     "status": "ok",
     "timestamp": 1731189523764,
     "user": {
      "displayName": "Abdurrizqo Arrahman",
      "userId": "05926603518497905885"
     },
     "user_tz": -480
    },
    "id": "p7neNXz8yM1f"
   },
   "outputs": [],
   "source": [
    "model.compile(optimizer=tf.keras.optimizers.Adam(learning_rate=0.001),\n",
    "              loss='categorical_crossentropy',\n",
    "              metrics=['accuracy'])\n"
   ]
  },
  {
   "cell_type": "code",
   "execution_count": 11,
   "metadata": {
    "executionInfo": {
     "elapsed": 7,
     "status": "ok",
     "timestamp": 1731189523764,
     "user": {
      "displayName": "Abdurrizqo Arrahman",
      "userId": "05926603518497905885"
     },
     "user_tz": -480
    },
    "id": "nt1b6FZX-WnV"
   },
   "outputs": [],
   "source": [
    "from tensorflow.keras.callbacks import EarlyStopping, ModelCheckpoint, ReduceLROnPlateau\n",
    "\n",
    "early_stopping = EarlyStopping(\n",
    "    monitor='val_loss',\n",
    "    patience=10,\n",
    "    restore_best_weights=True\n",
    ")"
   ]
  },
  {
   "cell_type": "code",
   "execution_count": 12,
   "metadata": {
    "executionInfo": {
     "elapsed": 6,
     "status": "ok",
     "timestamp": 1731189523764,
     "user": {
      "displayName": "Abdurrizqo Arrahman",
      "userId": "05926603518497905885"
     },
     "user_tz": -480
    },
    "id": "Uw1BOIlFPbO2"
   },
   "outputs": [],
   "source": [
    "checkpoint_callback = ModelCheckpoint(\n",
    "    filepath=\"myModel.keras\",  # ubah ekstensi dari .h5 ke .keras\n",
    "    monitor=\"val_loss\",           # metrik yang di-monitor (bisa juga 'val_accuracy')\n",
    "    save_best_only=True,          # hanya menyimpan model terbaik\n",
    "    mode=\"min\"                    # 'min' jika menggunakan val_loss, 'max' jika val_accuracy\n",
    ")"
   ]
  },
  {
   "cell_type": "code",
   "execution_count": 13,
   "metadata": {
    "executionInfo": {
     "elapsed": 6,
     "status": "ok",
     "timestamp": 1731189523764,
     "user": {
      "displayName": "Abdurrizqo Arrahman",
      "userId": "05926603518497905885"
     },
     "user_tz": -480
    },
    "id": "2agd44F343Xf"
   },
   "outputs": [],
   "source": [
    "reduce_lr = ReduceLROnPlateau(monitor='val_loss', factor=0.3, patience=3, min_lr=0.00001)"
   ]
  },
  {
   "cell_type": "code",
   "execution_count": 14,
   "metadata": {
    "colab": {
     "base_uri": "https://localhost:8080/"
    },
    "id": "hrmpL3hvyQPx",
    "outputId": "394df1d9-2c34-4672-d924-e79fe1c0dbf9"
   },
   "outputs": [
    {
     "name": "stderr",
     "output_type": "stream",
     "text": [
      "/home/arra/miniconda3/lib/python3.12/site-packages/keras/src/trainers/data_adapters/py_dataset_adapter.py:121: UserWarning: Your `PyDataset` class should call `super().__init__(**kwargs)` in its constructor. `**kwargs` can include `workers`, `use_multiprocessing`, `max_queue_size`. Do not pass these arguments to `fit()`, as they will be ignored.\n",
      "  self._warn_if_super_not_called()\n"
     ]
    },
    {
     "name": "stdout",
     "output_type": "stream",
     "text": [
      "Epoch 1/100\n"
     ]
    },
    {
     "name": "stderr",
     "output_type": "stream",
     "text": [
      "WARNING: All log messages before absl::InitializeLog() is called are written to STDERR\n",
      "I0000 00:00:1731323963.063001    1520 service.cc:148] XLA service 0x7f723c00a590 initialized for platform CUDA (this does not guarantee that XLA will be used). Devices:\n",
      "I0000 00:00:1731323963.063136    1520 service.cc:156]   StreamExecutor device (0): NVIDIA GeForce GTX 1650, Compute Capability 7.5\n",
      "2024-11-11 19:19:23.106149: I tensorflow/compiler/mlir/tensorflow/utils/dump_mlir_util.cc:268] disabling MLIR crash reproducer, set env var `MLIR_CRASH_REPRODUCER_DIRECTORY` to enable.\n",
      "I0000 00:00:1731323963.338129    1520 cuda_dnn.cc:529] Loaded cuDNN version 90300\n",
      "2024-11-11 19:19:26.350866: W external/local_xla/xla/tsl/framework/bfc_allocator.cc:306] Allocator (GPU_0_bfc) ran out of memory trying to allocate 2.34GiB with freed_by_count=0. The caller indicates that this is not a failure, but this may mean that there could be performance gains if more memory were available.\n"
     ]
    },
    {
     "name": "stdout",
     "output_type": "stream",
     "text": [
      "\u001b[1m  1/340\u001b[0m \u001b[37m━━━━━━━━━━━━━━━━━━━━\u001b[0m \u001b[1m33:16\u001b[0m 6s/step - accuracy: 0.0938 - loss: 2.5813"
     ]
    },
    {
     "name": "stderr",
     "output_type": "stream",
     "text": [
      "I0000 00:00:1731323967.388589    1520 device_compiler.h:188] Compiled cluster using XLA!  This line is logged at most once for the lifetime of the process.\n"
     ]
    },
    {
     "name": "stdout",
     "output_type": "stream",
     "text": [
      "\u001b[1m340/340\u001b[0m \u001b[32m━━━━━━━━━━━━━━━━━━━━\u001b[0m\u001b[37m\u001b[0m \u001b[1m0s\u001b[0m 214ms/step - accuracy: 0.6911 - loss: 1.0214"
     ]
    },
    {
     "name": "stderr",
     "output_type": "stream",
     "text": [
      "/home/arra/miniconda3/lib/python3.12/site-packages/keras/src/trainers/data_adapters/py_dataset_adapter.py:121: UserWarning: Your `PyDataset` class should call `super().__init__(**kwargs)` in its constructor. `**kwargs` can include `workers`, `use_multiprocessing`, `max_queue_size`. Do not pass these arguments to `fit()`, as they will be ignored.\n",
      "  self._warn_if_super_not_called()\n",
      "2024-11-11 19:20:58.413680: W external/local_xla/xla/tsl/framework/bfc_allocator.cc:306] Allocator (GPU_0_bfc) ran out of memory trying to allocate 2.33GiB with freed_by_count=0. The caller indicates that this is not a failure, but this may mean that there could be performance gains if more memory were available.\n"
     ]
    },
    {
     "name": "stdout",
     "output_type": "stream",
     "text": [
      "\u001b[1m340/340\u001b[0m \u001b[32m━━━━━━━━━━━━━━━━━━━━\u001b[0m\u001b[37m\u001b[0m \u001b[1m98s\u001b[0m 271ms/step - accuracy: 0.6914 - loss: 1.0204 - val_accuracy: 0.8807 - val_loss: 0.3545 - learning_rate: 0.0010\n",
      "Epoch 2/100\n",
      "\u001b[1m340/340\u001b[0m \u001b[32m━━━━━━━━━━━━━━━━━━━━\u001b[0m\u001b[37m\u001b[0m \u001b[1m80s\u001b[0m 235ms/step - accuracy: 0.8693 - loss: 0.3818 - val_accuracy: 0.9159 - val_loss: 0.2936 - learning_rate: 0.0010\n",
      "Epoch 3/100\n",
      "\u001b[1m340/340\u001b[0m \u001b[32m━━━━━━━━━━━━━━━━━━━━\u001b[0m\u001b[37m\u001b[0m \u001b[1m77s\u001b[0m 226ms/step - accuracy: 0.8931 - loss: 0.3142 - val_accuracy: 0.9146 - val_loss: 0.2679 - learning_rate: 0.0010\n",
      "Epoch 4/100\n",
      "\u001b[1m340/340\u001b[0m \u001b[32m━━━━━━━━━━━━━━━━━━━━\u001b[0m\u001b[37m\u001b[0m \u001b[1m78s\u001b[0m 230ms/step - accuracy: 0.9075 - loss: 0.2666 - val_accuracy: 0.9245 - val_loss: 0.2435 - learning_rate: 0.0010\n",
      "Epoch 5/100\n",
      "\u001b[1m340/340\u001b[0m \u001b[32m━━━━━━━━━━━━━━━━━━━━\u001b[0m\u001b[37m\u001b[0m \u001b[1m77s\u001b[0m 226ms/step - accuracy: 0.9203 - loss: 0.2354 - val_accuracy: 0.9288 - val_loss: 0.2302 - learning_rate: 0.0010\n",
      "Epoch 6/100\n",
      "\u001b[1m340/340\u001b[0m \u001b[32m━━━━━━━━━━━━━━━━━━━━\u001b[0m\u001b[37m\u001b[0m \u001b[1m78s\u001b[0m 230ms/step - accuracy: 0.9267 - loss: 0.2166 - val_accuracy: 0.9254 - val_loss: 0.2384 - learning_rate: 0.0010\n",
      "Epoch 7/100\n",
      "\u001b[1m340/340\u001b[0m \u001b[32m━━━━━━━━━━━━━━━━━━━━\u001b[0m\u001b[37m\u001b[0m \u001b[1m79s\u001b[0m 231ms/step - accuracy: 0.9284 - loss: 0.2088 - val_accuracy: 0.9206 - val_loss: 0.2462 - learning_rate: 0.0010\n",
      "Epoch 8/100\n",
      "\u001b[1m340/340\u001b[0m \u001b[32m━━━━━━━━━━━━━━━━━━━━\u001b[0m\u001b[37m\u001b[0m \u001b[1m76s\u001b[0m 225ms/step - accuracy: 0.9384 - loss: 0.1787 - val_accuracy: 0.9339 - val_loss: 0.2117 - learning_rate: 0.0010\n",
      "Epoch 9/100\n",
      "\u001b[1m340/340\u001b[0m \u001b[32m━━━━━━━━━━━━━━━━━━━━\u001b[0m\u001b[37m\u001b[0m \u001b[1m77s\u001b[0m 228ms/step - accuracy: 0.9379 - loss: 0.1780 - val_accuracy: 0.9266 - val_loss: 0.2281 - learning_rate: 0.0010\n",
      "Epoch 10/100\n",
      "\u001b[1m340/340\u001b[0m \u001b[32m━━━━━━━━━━━━━━━━━━━━\u001b[0m\u001b[37m\u001b[0m \u001b[1m75s\u001b[0m 222ms/step - accuracy: 0.9404 - loss: 0.1724 - val_accuracy: 0.9301 - val_loss: 0.2312 - learning_rate: 0.0010\n",
      "Epoch 11/100\n",
      "\u001b[1m340/340\u001b[0m \u001b[32m━━━━━━━━━━━━━━━━━━━━\u001b[0m\u001b[37m\u001b[0m \u001b[1m76s\u001b[0m 225ms/step - accuracy: 0.9435 - loss: 0.1620 - val_accuracy: 0.9322 - val_loss: 0.2333 - learning_rate: 0.0010\n",
      "Epoch 12/100\n",
      "\u001b[1m340/340\u001b[0m \u001b[32m━━━━━━━━━━━━━━━━━━━━\u001b[0m\u001b[37m\u001b[0m \u001b[1m77s\u001b[0m 225ms/step - accuracy: 0.9529 - loss: 0.1351 - val_accuracy: 0.9374 - val_loss: 0.2286 - learning_rate: 3.0000e-04\n",
      "Epoch 13/100\n",
      "\u001b[1m340/340\u001b[0m \u001b[32m━━━━━━━━━━━━━━━━━━━━\u001b[0m\u001b[37m\u001b[0m \u001b[1m75s\u001b[0m 221ms/step - accuracy: 0.9613 - loss: 0.1136 - val_accuracy: 0.9335 - val_loss: 0.2120 - learning_rate: 3.0000e-04\n",
      "Epoch 14/100\n",
      "\u001b[1m340/340\u001b[0m \u001b[32m━━━━━━━━━━━━━━━━━━━━\u001b[0m\u001b[37m\u001b[0m \u001b[1m77s\u001b[0m 226ms/step - accuracy: 0.9612 - loss: 0.1124 - val_accuracy: 0.9331 - val_loss: 0.2227 - learning_rate: 3.0000e-04\n",
      "Epoch 15/100\n",
      "\u001b[1m340/340\u001b[0m \u001b[32m━━━━━━━━━━━━━━━━━━━━\u001b[0m\u001b[37m\u001b[0m \u001b[1m76s\u001b[0m 222ms/step - accuracy: 0.9617 - loss: 0.1092 - val_accuracy: 0.9326 - val_loss: 0.2108 - learning_rate: 9.0000e-05\n",
      "Epoch 16/100\n",
      "\u001b[1m340/340\u001b[0m \u001b[32m━━━━━━━━━━━━━━━━━━━━\u001b[0m\u001b[37m\u001b[0m \u001b[1m76s\u001b[0m 224ms/step - accuracy: 0.9654 - loss: 0.0975 - val_accuracy: 0.9374 - val_loss: 0.2145 - learning_rate: 9.0000e-05\n",
      "Epoch 17/100\n",
      "\u001b[1m340/340\u001b[0m \u001b[32m━━━━━━━━━━━━━━━━━━━━\u001b[0m\u001b[37m\u001b[0m \u001b[1m78s\u001b[0m 230ms/step - accuracy: 0.9672 - loss: 0.1008 - val_accuracy: 0.9387 - val_loss: 0.2217 - learning_rate: 9.0000e-05\n",
      "Epoch 18/100\n",
      "\u001b[1m340/340\u001b[0m \u001b[32m━━━━━━━━━━━━━━━━━━━━\u001b[0m\u001b[37m\u001b[0m \u001b[1m81s\u001b[0m 237ms/step - accuracy: 0.9668 - loss: 0.1056 - val_accuracy: 0.9344 - val_loss: 0.2313 - learning_rate: 9.0000e-05\n",
      "Epoch 19/100\n",
      "\u001b[1m340/340\u001b[0m \u001b[32m━━━━━━━━━━━━━━━━━━━━\u001b[0m\u001b[37m\u001b[0m \u001b[1m81s\u001b[0m 237ms/step - accuracy: 0.9711 - loss: 0.0886 - val_accuracy: 0.9361 - val_loss: 0.2244 - learning_rate: 2.7000e-05\n",
      "Epoch 20/100\n",
      "\u001b[1m340/340\u001b[0m \u001b[32m━━━━━━━━━━━━━━━━━━━━\u001b[0m\u001b[37m\u001b[0m \u001b[1m80s\u001b[0m 237ms/step - accuracy: 0.9708 - loss: 0.0862 - val_accuracy: 0.9348 - val_loss: 0.2103 - learning_rate: 2.7000e-05\n",
      "Epoch 21/100\n",
      "\u001b[1m340/340\u001b[0m \u001b[32m━━━━━━━━━━━━━━━━━━━━\u001b[0m\u001b[37m\u001b[0m \u001b[1m80s\u001b[0m 234ms/step - accuracy: 0.9666 - loss: 0.0942 - val_accuracy: 0.9331 - val_loss: 0.2131 - learning_rate: 2.7000e-05\n",
      "Epoch 22/100\n",
      "\u001b[1m340/340\u001b[0m \u001b[32m━━━━━━━━━━━━━━━━━━━━\u001b[0m\u001b[37m\u001b[0m \u001b[1m81s\u001b[0m 238ms/step - accuracy: 0.9671 - loss: 0.0987 - val_accuracy: 0.9399 - val_loss: 0.2120 - learning_rate: 2.7000e-05\n",
      "Epoch 23/100\n",
      "\u001b[1m340/340\u001b[0m \u001b[32m━━━━━━━━━━━━━━━━━━━━\u001b[0m\u001b[37m\u001b[0m \u001b[1m79s\u001b[0m 232ms/step - accuracy: 0.9650 - loss: 0.0947 - val_accuracy: 0.9348 - val_loss: 0.2278 - learning_rate: 2.7000e-05\n",
      "Epoch 24/100\n",
      "\u001b[1m340/340\u001b[0m \u001b[32m━━━━━━━━━━━━━━━━━━━━\u001b[0m\u001b[37m\u001b[0m \u001b[1m79s\u001b[0m 231ms/step - accuracy: 0.9696 - loss: 0.0877 - val_accuracy: 0.9356 - val_loss: 0.2048 - learning_rate: 1.0000e-05\n",
      "Epoch 25/100\n",
      "\u001b[1m340/340\u001b[0m \u001b[32m━━━━━━━━━━━━━━━━━━━━\u001b[0m\u001b[37m\u001b[0m \u001b[1m79s\u001b[0m 231ms/step - accuracy: 0.9663 - loss: 0.0942 - val_accuracy: 0.9339 - val_loss: 0.2231 - learning_rate: 1.0000e-05\n",
      "Epoch 26/100\n",
      "\u001b[1m340/340\u001b[0m \u001b[32m━━━━━━━━━━━━━━━━━━━━\u001b[0m\u001b[37m\u001b[0m \u001b[1m78s\u001b[0m 230ms/step - accuracy: 0.9719 - loss: 0.0867 - val_accuracy: 0.9378 - val_loss: 0.2138 - learning_rate: 1.0000e-05\n",
      "Epoch 27/100\n",
      "\u001b[1m340/340\u001b[0m \u001b[32m━━━━━━━━━━━━━━━━━━━━\u001b[0m\u001b[37m\u001b[0m \u001b[1m79s\u001b[0m 233ms/step - accuracy: 0.9656 - loss: 0.0963 - val_accuracy: 0.9314 - val_loss: 0.2288 - learning_rate: 1.0000e-05\n",
      "Epoch 28/100\n",
      "\u001b[1m340/340\u001b[0m \u001b[32m━━━━━━━━━━━━━━━━━━━━\u001b[0m\u001b[37m\u001b[0m \u001b[1m78s\u001b[0m 228ms/step - accuracy: 0.9713 - loss: 0.0897 - val_accuracy: 0.9348 - val_loss: 0.2199 - learning_rate: 1.0000e-05\n",
      "Epoch 29/100\n",
      "\u001b[1m340/340\u001b[0m \u001b[32m━━━━━━━━━━━━━━━━━━━━\u001b[0m\u001b[37m\u001b[0m \u001b[1m78s\u001b[0m 231ms/step - accuracy: 0.9689 - loss: 0.0950 - val_accuracy: 0.9387 - val_loss: 0.2169 - learning_rate: 1.0000e-05\n",
      "Epoch 30/100\n",
      "\u001b[1m340/340\u001b[0m \u001b[32m━━━━━━━━━━━━━━━━━━━━\u001b[0m\u001b[37m\u001b[0m \u001b[1m78s\u001b[0m 230ms/step - accuracy: 0.9702 - loss: 0.0829 - val_accuracy: 0.9339 - val_loss: 0.2180 - learning_rate: 1.0000e-05\n",
      "Epoch 31/100\n",
      "\u001b[1m340/340\u001b[0m \u001b[32m━━━━━━━━━━━━━━━━━━━━\u001b[0m\u001b[37m\u001b[0m \u001b[1m79s\u001b[0m 231ms/step - accuracy: 0.9713 - loss: 0.0891 - val_accuracy: 0.9374 - val_loss: 0.2181 - learning_rate: 1.0000e-05\n",
      "Epoch 32/100\n",
      "\u001b[1m340/340\u001b[0m \u001b[32m━━━━━━━━━━━━━━━━━━━━\u001b[0m\u001b[37m\u001b[0m \u001b[1m78s\u001b[0m 229ms/step - accuracy: 0.9691 - loss: 0.0901 - val_accuracy: 0.9382 - val_loss: 0.2191 - learning_rate: 1.0000e-05\n",
      "Epoch 33/100\n",
      "\u001b[1m340/340\u001b[0m \u001b[32m━━━━━━━━━━━━━━━━━━━━\u001b[0m\u001b[37m\u001b[0m \u001b[1m77s\u001b[0m 227ms/step - accuracy: 0.9682 - loss: 0.0957 - val_accuracy: 0.9374 - val_loss: 0.2085 - learning_rate: 1.0000e-05\n",
      "Epoch 34/100\n",
      "\u001b[1m340/340\u001b[0m \u001b[32m━━━━━━━━━━━━━━━━━━━━\u001b[0m\u001b[37m\u001b[0m \u001b[1m79s\u001b[0m 231ms/step - accuracy: 0.9689 - loss: 0.0912 - val_accuracy: 0.9352 - val_loss: 0.2212 - learning_rate: 1.0000e-05\n"
     ]
    }
   ],
   "source": [
    "history = model.fit(\n",
    "    train_data,\n",
    "    validation_data=val_data,\n",
    "    epochs=100,\n",
    "    callbacks=[early_stopping, checkpoint_callback, reduce_lr]\n",
    ")"
   ]
  },
  {
   "cell_type": "code",
   "execution_count": 15,
   "metadata": {
    "id": "1HPs10Wz-aSp"
   },
   "outputs": [],
   "source": [
    "from tensorflow.keras.models import load_model\n",
    "\n",
    "# Memuat model terbaik\n",
    "best_model = load_model(\"myModel.keras\")"
   ]
  },
  {
   "cell_type": "code",
   "execution_count": 16,
   "metadata": {
    "id": "JJzvsENBXm-Y"
   },
   "outputs": [
    {
     "name": "stdout",
     "output_type": "stream",
     "text": [
      "\u001b[1m74/74\u001b[0m \u001b[32m━━━━━━━━━━━━━━━━━━━━\u001b[0m\u001b[37m\u001b[0m \u001b[1m7s\u001b[0m 77ms/step - accuracy: 0.9499 - loss: 0.1491\n",
      "Test Accuracy: 94.27%\n"
     ]
    }
   ],
   "source": [
    "test_loss, test_accuracy = best_model.evaluate(test_data)\n",
    "print(f\"Test Accuracy: {test_accuracy * 100:.2f}%\")"
   ]
  },
  {
   "cell_type": "code",
   "execution_count": 17,
   "metadata": {
    "id": "cpm_gKK8i815"
   },
   "outputs": [],
   "source": [
    "best_model.save('myModel.keras')"
   ]
  },
  {
   "cell_type": "code",
   "execution_count": 1,
   "metadata": {},
   "outputs": [
    {
     "ename": "NameError",
     "evalue": "name 'best_model' is not defined",
     "output_type": "error",
     "traceback": [
      "\u001b[0;31m---------------------------------------------------------------------------\u001b[0m",
      "\u001b[0;31mNameError\u001b[0m                                 Traceback (most recent call last)",
      "Cell \u001b[0;32mIn[1], line 1\u001b[0m\n\u001b[0;32m----> 1\u001b[0m best_model\u001b[38;5;241m.\u001b[39msummary()\n",
      "\u001b[0;31mNameError\u001b[0m: name 'best_model' is not defined"
     ]
    }
   ],
   "source": [
    "best_model.summary()"
   ]
  },
  {
   "cell_type": "code",
   "execution_count": 18,
   "metadata": {},
   "outputs": [],
   "source": [
    "import matplotlib.pyplot as plt"
   ]
  },
  {
   "cell_type": "code",
   "execution_count": 19,
   "metadata": {
    "id": "feOgghomSzvo"
   },
   "outputs": [
    {
     "data": {
      "image/png": "[encoded data removed]",
      "text/plain": [
       "<Figure size 640x480 with 1 Axes>"
      ]
     },
     "metadata": {},
     "output_type": "display_data"
    }
   ],
   "source": [
    "# Plot Loss\n",
    "plt.plot(history.history['loss'], label='Train Loss')\n",
    "plt.plot(history.history['val_loss'], label='Validation Loss')\n",
    "plt.xlabel('Epochs')\n",
    "plt.ylabel('Loss')\n",
    "plt.title('Model Loss')\n",
    "plt.legend()\n",
    "plt.show()"
   ]
  },
  {
   "cell_type": "code",
   "execution_count": 21,
   "metadata": {},
   "outputs": [
    {
     "data": {
      "text/plain": [
       "<Figure size 640x480 with 0 Axes>"
      ]
     },
     "metadata": {},
     "output_type": "display_data"
    }
   ],
   "source": [
    "plt.savefig(\"model_loss.png\", dpi=300, bbox_inches='tight', transparent=True)"
   ]
  },
  {
   "cell_type": "code",
   "execution_count": 20,
   "metadata": {},
   "outputs": [
    {
     "data": {
      "image/png": "[encoded data removed]",
      "text/plain": [
       "<Figure size 640x480 with 1 Axes>"
      ]
     },
     "metadata": {},
     "output_type": "display_data"
    }
   ],
   "source": [
    "# Plot Akurasi\n",
    "plt.plot(history.history['accuracy'], label='Train Accuracy')\n",
    "plt.plot(history.history['val_accuracy'], label='Validation Accuracy')\n",
    "plt.xlabel('Epochs')\n",
    "plt.ylabel('Accuracy')\n",
    "plt.title('Model Accuracy')\n",
    "plt.legend()\n",
    "plt.show()"
   ]
  },
  {
   "cell_type": "code",
   "execution_count": 22,
   "metadata": {},
   "outputs": [
    {
     "data": {
      "text/plain": [
       "<Figure size 640x480 with 0 Axes>"
      ]
     },
     "metadata": {},
     "output_type": "display_data"
    }
   ],
   "source": [
    "plt.savefig(\"modell_accuracy.png\", dpi=300, bbox_inches='tight', transparent=True)"
   ]
  },
  {
   "cell_type": "code",
   "execution_count": null,
   "metadata": {},
   "outputs": [],
   "source": []
  }
 ],
 "metadata": {
  "colab": {
   "authorship_tag": "ABX9TyMaKNCab/SgxPvy84QOjALs",
   "mount_file_id": "1D9Mk3BfwP9aEgAYOfhnIys3Rq7lDM4wN",
   "provenance": []
  },
  "kernelspec": {
   "display_name": "Python 3 (ipykernel)",
   "language": "python",
   "name": "python3"
  },
  "language_info": {
   "codemirror_mode": {
    "name": "ipython",
    "version": 3
   },
   "file_extension": ".py",
   "mimetype": "text/x-python",
   "name": "python",
   "nbconvert_exporter": "python",
   "pygments_lexer": "ipython3",
   "version": "3.12.7"
  }
 },
 "nbformat": 4,
 "nbformat_minor": 4
}
